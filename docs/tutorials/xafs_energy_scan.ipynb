{
 "cells": [
  {
   "cell_type": "markdown",
   "id": "cb70946b-6a26-43ff-82ce-21179deaadde",
   "metadata": {},
   "source": [
    "# Demonstration of XAFS Scans and Energy Scans\n",
    "\n",
    "This notebook shows the following tasks:\n",
    "\n",
    "- [running a basic single-segment XANES scan](#Running-a-Single-Segment-XANES-scan)\n",
    "- [load and plot a dataset](#Loading-the-Data)\n",
    "- [running a multi-segment XAFS scan](#Running-a-Multi-Segment-XAFS-Scan)\n",
    "- [running a multi-segment EXAFS scan using k-space](#Running-a-Multi-Segment-EXAFS-Scan-in-K-space)\n",
    "- [modifying the list of detectors](#Modifying-the-List-of-Detectors)"
   ]
  },
  {
   "cell_type": "markdown",
   "id": "febb6750-b3e7-458e-a9de-b78f251fdf6f",
   "metadata": {},
   "source": [
    "First we have to **import haven**, the beamline control library. Haven contains most of the tools we will use. Importing it allows us to get to the functions and classes that are defined inside.\n",
    "\n",
    "Next, the ``haven.load_instrument()`` function will read the configuration files and scan the hardware for its configuration. It will then **build the devices** that will be used for scans. This function prints out a list of motors that it has discovered.\n",
    "\n",
    "Then, we create the run engine. The run engine is responsible for executing our scans and will be described in more detail when it is used below.\n",
    "\n",
    "Lastly we set metadata about who is running the beamline. This value will be saved in every plan executing on this run engine. This step is optional, but will allow database queries for scans taken by a specific person."
   ]
  },
  {
   "cell_type": "code",
   "execution_count": 2,
   "id": "ea04c16b-66a1-44e1-8298-99848d37ff95",
   "metadata": {
    "tags": []
   },
   "outputs": [
    {
     "name": "stderr",
     "output_type": "stream",
     "text": [
      "sim_motor\n",
      "sim_detector\n",
      "energy_energy\n",
      "energy_mono_energy\n",
      "Ipreslit_sensitivity_sens_level\n",
      "Ipreslit\n",
      "IpreKB_sensitivity_sens_level\n",
      "IpreKB\n",
      "I0_sensitivity_sens_level\n",
      "I0\n",
      "It_sensitivity_sens_level\n",
      "It\n",
      "SLT V Upper\n",
      "SLT V Lower\n",
      "SLT H Inb\n",
      "SLT H Outb\n",
      "KBH Down\n",
      "KBH Up\n",
      "KBV Down\n",
      "KBV Up\n",
      "KB Tbl H\n",
      "KB Tbl V\n",
      "Focus V\n",
      "Focus H\n",
      "Focus In Out\n",
      "huberRot\n",
      "ADC KB Focus\n",
      "SampleZ(KBH Down)\n",
      "I0 H\n",
      "I0 V\n",
      "Optic In Out\n",
      "Optic V\n",
      "Optic H\n",
      "motor 25test\n",
      "Tbl H Cdn\n",
      "Tbl Up Cdn\n",
      "Tbl Down Cdn\n",
      "JJSlitUp Cdn\n",
      "JJSlitDn Cdn\n",
      "JJSlitInB Cdn\n",
      "JJSlitOutB Cdn\n",
      "H Down Trans Cdn\n",
      "H Up Trans Cdn\n",
      "H Down Bend Cdn\n",
      "H Up Bend Cdn\n",
      "V Down Bend Cdn\n",
      "V Up Bend Cdn\n",
      "V Down Trans Cdn\n",
      "V Up Trans Cdn\n",
      "ORM1 height\n",
      "ORM1 roll\n",
      "ORM1 upstream lateral\n",
      "ORM1 downstream lateral\n",
      "ORM2 height\n",
      "ORM2 roll\n",
      "ORM2 upstream lateral\n",
      "ORM2 downstream lateral\n",
      "ORM2 bender\n",
      "Upstream horizontal\n",
      "Upstream diagonal\n",
      "Upstream pitch\n",
      "Upstream yaw\n",
      "Downstream horizontal\n",
      "Downstream diagonal\n",
      "Downstream pitch\n",
      "Downstream yaw\n",
      "A-Hutch BPM\n",
      "monochromator_energy\n",
      "monochromator_offset\n",
      "monochromator_horiz\n",
      "monochromator_vert\n",
      "monochromator_bragg\n",
      "monochromator_gap\n",
      "monochromator_roll2\n",
      "monochromator_pitch2\n",
      "monochromator_roll_int\n",
      "monochromator_pi_int\n",
      "Aerotech_vert\n",
      "Aerotech_horiz\n"
     ]
    }
   ],
   "source": [
    "import haven\n",
    "\n",
    "# Import some things to allow for live plotting\n",
    "from bluesky.callbacks.mpl_plotting import LivePlot\n",
    "from bluesky.utils import install_nb_kicker\n",
    "install_nb_kicker()\n",
    "\n",
    "# Load the motors and detectors\n",
    "haven.load_instrument()\n",
    "# The RunEngine will be responsible for executing the plans\n",
    "RE = haven.RunEngine()\n",
    "# (Optional) Save the initials of the current beamline operator as metadata\n",
    "RE.md[\"operator\"] = \"MFW\"  # <- Put your initials in here"
   ]
  },
  {
   "cell_type": "markdown",
   "id": "d5d1cf0d-729f-49f4-86b0-3ede68bdf0fc",
   "metadata": {
    "tags": []
   },
   "source": [
    "## Running a Single-Segment XANES scan"
   ]
  },
  {
   "cell_type": "markdown",
   "id": "15d59530-3899-41c5-ac36-87a7153a86c2",
   "metadata": {},
   "source": [
    "Running a scan in bluesky is a **two step process**.\n",
    "\n",
    "First, **create a plan**. A plan generates messages with instructions to do things like move a motor, wait for a motor to arrive at its destination, and trigger and read a detector. To create a plan, you call a function that will generate these messages. **Calling the function doesn't actually execute the scan.** In our case, ``haven.xafs_scan(8325, 0.5, 1, 8350)`` will create the plan, but the plan will not do anything unless used with a run engine.\n",
    "\n",
    "The `haven.xafs_scan()` plan requires at least four values: *(start, step, exposure, stop)*. *start* and *stop* mark the boundaries of the energy range, in eV. *step* is the space between energy points, in eV. Unless the range between *start* and *stop* is a whole multiple of *step*, the *stop* energy will not appear in the scan. *exposure* is the time, in seconds, for which to count at each energy.\n",
    "\n",
    "The optional argument *E0* specifies the energy, in eV, of an x-ray absorbance edge. If given, all other energy values (i.e. *start* and *stop*) will be relative to *E0*. \n",
    "\n",
    "Next, **execute the plan on the run engine**. At the top of this document we created a run engine. Now we will use this run engine to execute the plan. The run engine will read the messages and perform the appropriate tasks.\n",
    "\n",
    "When the run engine finishes the plan, it will return a unique identifier (UID). This UID is the best way to retrieve the data from the database. We will save the UID to a variable, and also print it to the page in case we want to recall it later."
   ]
  },
  {
   "cell_type": "code",
   "execution_count": null,
   "id": "115856fe-ff03-4d9e-bf8a-0a20bb5e2ced",
   "metadata": {
    "tags": []
   },
   "outputs": [],
   "source": [
    "# These two plans will scan from 8323 eV to 8383 eV\n",
    "#   in 2eV steps with 1 sec exposure\n",
    "absolute_plan = haven.xafs_scan(8323, 2, 1, 8383)\n",
    "relative_plan = haven.xafs_scan(-20, 2, 1, 50, E0=8333)\n",
    "# Run one of the plans with the previously created RunEngine\n",
    "uid = RE(relative_plan)\n",
    "print(uid)"
   ]
  },
  {
   "cell_type": "markdown",
   "id": "7a304f70-2fdd-4284-a9f2-a2dfd4ab0652",
   "metadata": {},
   "source": [
    "## Loading the Data\n",
    "\n",
    "During execution the data are saved to a mongoDB database. Haven has tools to retrieve the data.\n",
    "\n",
    "The ``load_data()`` function will return a data set, provided we supply the uid that we had previously recorded. It is possible to have multiple experimental runs within a single call to the run engine, and so our variable *uid* from above is actually a list of UIDs. Since there was only one run, we will just use the first (and only) entry: ``uid[0]``.\n",
    "\n",
    "If the analysis is being done at a different time or place from running the scan, then the variable *uid* will probably not be set. In this case, it is possible to provide the UID that was printed above.\n",
    "\n",
    "Optionally, the **data can be saved to a text CSV file** for additional analysis. First we will convert it to a pandas DataFrame and then use panda's ``to_csv()`` method. We will append the first segment of the UID to the filename to descrease the likelihood that we will overwrite data."
   ]
  },
  {
   "cell_type": "code",
   "execution_count": null,
   "id": "a6ee7821-07d2-4b0a-aeb5-ddb8c2977695",
   "metadata": {},
   "outputs": [],
   "source": [
    "# Uncomment this line to manually specify a UID\n",
    "# uid = [\"927fa7dd-e331-45ca-bb9d-3f89d7c65b17\"]\n",
    "# Load the data for the first (and only) UID in the list\n",
    "data = haven.load_data(uid[0])\n",
    "# Save the data to a CSV file, with tabs (\"\\t\") instead of commas.\n",
    "data.to_pandas().to_csv(f\"xafs_scan_example_{uid[0].split('-')[0]}.csv\", sep='\\t')\n",
    "# Plot the result\n",
    "data[\"od\"] = data[\"It_raw_counts\"] / data[\"I0_raw_counts\"]\n",
    "plt.plot(data['energy'], data['od'])"
   ]
  },
  {
   "cell_type": "markdown",
   "id": "fd6bf41c-967e-4da3-938c-67a61458993c",
   "metadata": {},
   "source": [
    "## Running a Multi-Segment XAFS Scan\n",
    "\n",
    "The ``xafs_scan()`` function can accept multiple sets of values to accomodate additional scan regions. After the first set of four parameters (*start*, *step*, *exposure*, *stop*), additional sets of three parameters (*step*, *exposure*, *stop*) can be given and will use the previous *stop* energy as its new *start* energy.\n",
    "\n",
    "Additionally, Haven will look up the literature energy for a given X-ray absorption edge, in this case the Ni K-edge.\n",
    "\n",
    "The call below will scan the following energies, relative to 8333 eV:\n",
    "\n",
    "- -50 to -10 eV (8283 to 8323 eV) in 5 eV steps with 0.5 sec exposure\n",
    "- -10 to +50 eV (8323 to 8383 eV) in 1 eV steps with 1 sec exposure\n",
    "- +50 to +200 eV (8383 to 8533 eV) in 10 eV steps with 0.5 sec exposure"
   ]
  },
  {
   "cell_type": "code",
   "execution_count": null,
   "id": "0a4ddbcb-647f-4b11-ad73-bd1ee9956f38",
   "metadata": {},
   "outputs": [],
   "source": [
    "multisegment_plan = haven.xafs_scan(-50, 5, 0.5,  # start, step, exposure\n",
    "                                    -10, 1, 1,  # start, step, exposure\n",
    "                                    50, 10, 0.5,  # start, step, exposure\n",
    "                                    200,  # stop\n",
    "                                    E0=\"Ni_K\")\n",
    "# Run one of the plans with the previously created RunEngine\n",
    "uid = RE(multisegment_plan)\n",
    "print(uid)"
   ]
  },
  {
   "cell_type": "markdown",
   "id": "52a18df2-501e-4bbb-868e-6ea341973022",
   "metadata": {},
   "source": [
    "## Running a Multi-Segment EXAFS Scan in K-space\n",
    "\n",
    "The `xafs_scan()` function can also accept one energy segment as X-ray wavenumbers instead of X-ray energy using the *k_step*, *k_exposure* and *k_max* keyword-only parameters. *k_weight* controls the increasing exposure time at higher wavenumbers."
   ]
  },
  {
   "cell_type": "code",
   "execution_count": 3,
   "id": "017f8576-3c90-4fed-889a-ad40f652c572",
   "metadata": {},
   "outputs": [
    {
     "name": "stderr",
     "output_type": "stream",
     "text": [
      "/home/beams0/S25IDCUSER/src/haven/haven/plans/energy_scan.py:129: UserWarning: Offset for undulator gap not corrected in energy_scan\n",
      "  warnings.warn(msg)\n",
      "Offset for undulator gap not corrected in energy_scan\n"
     ]
    },
    {
     "name": "stdout",
     "output_type": "stream",
     "text": [
      "('256a8c24-593e-4eb4-9390-2b7748b60b61',)\n"
     ]
    },
    {
     "data": {
      "image/png": "[encoded data removed]",
      "text/plain": [
       "<Figure size 640x480 with 1 Axes>"
      ]
     },
     "metadata": {},
     "output_type": "display_data"
    }
   ],
   "source": [
    "exafs_plan = haven.xafs_scan(-200, 5, 1.0,  # start, step, exposure\n",
    "                             -20, .3, 1,  # start, step, exposure\n",
    "                             30,  # Last non-k energy point (also start of k-region in eV)\n",
    "                             k_step=0.05, k_exposure=1.0, k_max=13.5, k_weight=0.5,\n",
    "                             E0=8331.0)\n",
    "# Run the plan with the previously created RunEngine\n",
    "uid = RE(exafs_plan, LivePlot('It_raw_counts', 'energy_energy'))\n",
    "print(uid)"
   ]
  },
  {
   "cell_type": "markdown",
   "id": "9658d1e0-f40e-459d-ad06-9db3a7397d98",
   "metadata": {},
   "source": [
    "## Modifying the List of Detectors\n",
    "\n",
    "By default, ``xafs_scan()`` measures all registered ion chambers, most likely those set up during `haven.load_instrument()` called above. This default list can be overridden by using the *detectors* argument. This example records only those scaler channels whose EPICS records' `.DESC` values are \"It\", \"I0\", or \"Iref\". Modify these names to suit your use case."
   ]
  },
  {
   "cell_type": "code",
   "execution_count": null,
   "id": "7805d89c-e0a2-4257-9fe2-54acefef25c5",
   "metadata": {},
   "outputs": [],
   "source": [
    "detectors_plan = haven.xafs_scan(8323, 2, 1, 8383, detectors=[\"It\", \"I0\", \"Iref\"])\n",
    "# Run the plan with the previously created RunEngine\n",
    "uid = RE(detectors_plan)\n",
    "print(uid)"
   ]
  }
 ],
 "metadata": {
  "kernelspec": {
   "display_name": "Python [conda env:haven]",
   "language": "python",
   "name": "conda-env-haven-py"
  },
  "language_info": {
   "codemirror_mode": {
    "name": "ipython",
    "version": 3
   },
   "file_extension": ".py",
   "mimetype": "text/x-python",
   "name": "python",
   "nbconvert_exporter": "python",
   "pygments_lexer": "ipython3",
   "version": "3.9.13"
  }
 },
 "nbformat": 4,
 "nbformat_minor": 5
}
